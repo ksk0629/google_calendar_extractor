{
 "cells": [
  {
   "cell_type": "markdown",
   "id": "600eeee8-8805-489e-b2d6-b8d651aa8adb",
   "metadata": {},
   "source": [
    "# Google Calendar Extractor"
   ]
  },
  {
   "cell_type": "code",
   "execution_count": 33,
   "id": "eeff2887-3c01-4e91-980f-89e4b2ef1793",
   "metadata": {},
   "outputs": [],
   "source": [
    "import datetime\n",
    "import os.path\n",
    "\n",
    "from google.auth.transport.requests import Request\n",
    "from google.oauth2.credentials import Credentials\n",
    "from google_auth_oauthlib.flow import InstalledAppFlow\n",
    "from googleapiclient.discovery import build\n",
    "from googleapiclient.errors import HttpError"
   ]
  },
  {
   "cell_type": "code",
   "execution_count": 34,
   "id": "b9405af8-90c8-4a86-b3b5-2a46ed0595e1",
   "metadata": {},
   "outputs": [],
   "source": [
    "# If modifying these scopes, delete the file token.json.\n",
    "SCOPES = [\"https://www.googleapis.com/auth/calendar.readonly\"]\n",
    "TOKEN_PATH = \"./../cfg/token.json\"\n",
    "CREDENTIALS_PATH = \"./../cfg/credentials.json\""
   ]
  },
  {
   "cell_type": "code",
   "execution_count": 35,
   "id": "7918e600-34bb-4574-b135-b0b278420250",
   "metadata": {},
   "outputs": [],
   "source": [
    "creds = None\n",
    "# The file token.json stores the user's access and refresh tokens, and is\n",
    "# created automatically when the authorization flow completes for the first\n",
    "# time.\n",
    "if os.path.exists(TOKEN_PATH):\n",
    "    creds = Credentials.from_authorized_user_file(TOKEN_PATH, SCOPES)\n",
    "\n",
    "# If there are no (valid) credentials available, let the user log in.\n",
    "if not creds or not creds.valid:\n",
    "    if creds and creds.expired and creds.refresh_token:\n",
    "        creds.refresh(Request())\n",
    "    else:\n",
    "        flow = InstalledAppFlow.from_client_secrets_file(\n",
    "            CREDENTIALS_PATH, SCOPES\n",
    "        )\n",
    "        creds = flow.run_local_server(port=0)\n",
    "\n",
    "# Save the credentials for the next run\n",
    "with open(TOKEN_PATH, \"w\") as token:\n",
    "    token.write(creds.to_json())"
   ]
  },
  {
   "cell_type": "code",
   "execution_count": 36,
   "id": "57a116c4-af8c-4272-b8cb-ac8998e51258",
   "metadata": {},
   "outputs": [],
   "source": [
    "service = build(\"calendar\", \"v3\", credentials=creds)"
   ]
  },
  {
   "cell_type": "code",
   "execution_count": 37,
   "id": "0a709647-a4b8-4f65-b298-9b377c14f58c",
   "metadata": {},
   "outputs": [
    {
     "data": {
      "text/plain": [
       "'2024-01-10T23:19:33.480077Z'"
      ]
     },
     "execution_count": 37,
     "metadata": {},
     "output_type": "execute_result"
    }
   ],
   "source": [
    "now = datetime.datetime.now(datetime.UTC).isoformat()[:-6] + \"Z\"  # 'Z' indicates UTC time\n",
    "now"
   ]
  },
  {
   "cell_type": "code",
   "execution_count": 38,
   "id": "261554a6-314d-40a2-a18a-bce33f3cd052",
   "metadata": {},
   "outputs": [],
   "source": [
    "events_result = (\n",
    "    service.events()\n",
    "    .list(\n",
    "        calendarId=\"primary\",\n",
    "        timeMin=now,\n",
    "        maxResults=10,\n",
    "        singleEvents=True,\n",
    "        orderBy=\"startTime\",\n",
    "    )\n",
    "    .execute()\n",
    ")"
   ]
  },
  {
   "cell_type": "code",
   "execution_count": 39,
   "id": "e147e772-48dd-4bfa-9ea5-05e8a49cbe41",
   "metadata": {},
   "outputs": [
    {
     "name": "stdout",
     "output_type": "stream",
     "text": [
      "2024-01-11T09:00:00Z work\n",
      "2024-01-11T17:30:00Z Have a meeting with JAC UK\n",
      "2024-01-12T09:00:00Z work\n",
      "2024-01-15T09:00:00Z work\n",
      "2024-01-16T09:00:00Z work\n",
      "2024-01-17T09:00:00Z work\n",
      "2024-01-18T09:00:00Z work\n",
      "2024-01-19T09:00:00Z work\n",
      "2024-01-22T09:00:00Z work\n",
      "2024-01-23T09:00:00Z work\n"
     ]
    }
   ],
   "source": [
    "events = events_result.get(\"items\", [])\n",
    "\n",
    "if not events:\n",
    "    print(\"No upcoming events found.\")\n",
    "\n",
    "# Prints the start and name of the next 10 events\n",
    "for event in events:\n",
    "    start = event[\"start\"].get(\"dateTime\", event[\"start\"].get(\"date\"))\n",
    "    print(start, event[\"summary\"])"
   ]
  },
  {
   "cell_type": "code",
   "execution_count": null,
   "id": "a95adb1d-adf9-4b84-9e37-2e9b1ce9c527",
   "metadata": {},
   "outputs": [],
   "source": []
  }
 ],
 "metadata": {
  "kernelspec": {
   "display_name": "Python 3 (ipykernel)",
   "language": "python",
   "name": "python3"
  },
  "language_info": {
   "codemirror_mode": {
    "name": "ipython",
    "version": 3
   },
   "file_extension": ".py",
   "mimetype": "text/x-python",
   "name": "python",
   "nbconvert_exporter": "python",
   "pygments_lexer": "ipython3",
   "version": "3.12.1"
  }
 },
 "nbformat": 4,
 "nbformat_minor": 5
}
